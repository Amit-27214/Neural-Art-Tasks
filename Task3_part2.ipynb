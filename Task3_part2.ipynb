{
  "nbformat": 4,
  "nbformat_minor": 0,
  "metadata": {
    "colab": {
      "name": "Task3 part2.ipynb",
      "provenance": [],
      "collapsed_sections": [],
      "authorship_tag": "ABX9TyN+uMjGAvuFg5g3DmD4Rwq7",
      "include_colab_link": true
    },
    "kernelspec": {
      "name": "python3",
      "display_name": "Python 3"
    },
    "language_info": {
      "name": "python"
    }
  },
  "cells": [
    {
      "cell_type": "markdown",
      "metadata": {
        "id": "view-in-github",
        "colab_type": "text"
      },
      "source": [
        "<a href=\"https://colab.research.google.com/github/Amit-27214/Neural-Art-Tasks/blob/main/Task3_part2.ipynb\" target=\"_parent\"><img src=\"https://colab.research.google.com/assets/colab-badge.svg\" alt=\"Open In Colab\"/></a>"
      ]
    },
    {
      "cell_type": "markdown",
      "source": [
        "Importing Libraries and Implementing K mean funtion\n"
      ],
      "metadata": {
        "id": "RqKlyUGcw229"
      }
    },
    {
      "cell_type": "code",
      "execution_count": 2,
      "metadata": {
        "colab": {
          "base_uri": "https://localhost:8080/",
          "height": 240
        },
        "id": "B2W-p34oh1Wb",
        "outputId": "8c09bb1d-d257-4dde-e707-7c360f58ef5a"
      },
      "outputs": [
        {
          "output_type": "display_data",
          "data": {
            "text/plain": [
              "<Figure size 432x288 with 1 Axes>"
            ],
            "image/png": "[encoded data removed]"
          },
          "metadata": {
            "needs_background": "light"
          }
        }
      ],
      "source": [
        "import numpy as np\n",
        "import matplotlib.pyplot as plt\n",
        "import matplotlib.image as img\n",
        "# from scipy.io import loadmat\n",
        "import cv2\n",
        "from scipy import misc\n",
        "\n",
        "def read_image():\n",
        "\t\n",
        "\timg =  cv2.imread('/content/Sample Image.jpg') \n",
        " \n",
        "#\tplt.imshow(img) # plotting the image\n",
        "\t# plt.show()\n",
        "\t\n",
        "\t# scaling it so that the values are small\n",
        "\timg = img / 255\n",
        "\n",
        "\treturn img\n",
        "\n",
        "def initialize_means(img, clusters):\n",
        "\t\n",
        "\t# reshaping it or flattening it into a 2d matrix\n",
        "\tpoints = np.reshape(img, (img.shape[0] * img.shape[1],\n",
        "\t\t\t\t\t\t\t\t\t\t\timg.shape[2]))\n",
        "\tm, n = points.shape\n",
        "\n",
        "\n",
        "\t# Clusters the number of colors that we choose.\n",
        "\t\n",
        "\t# means is the array of assumed means or centroids.\n",
        "\tmeans = np.zeros((clusters, n))\n",
        "\n",
        "\t# Random selection of k mean points out of all points.\n",
        "\tfor i in range(clusters):\n",
        "\t\trand1 = int(np.random.random(1)*10)\n",
        "\t\trand2 = int(np.random.random(1)*8)\n",
        "\t\tmeans[i, 0] = points[rand1, 0]\n",
        "\t\tmeans[i, 1] = points[rand2, 1]\n",
        "\n",
        "\treturn points, means\n",
        "\n",
        "# Calculating euclidean distance from k mean points\n",
        "def distance(x1, y1, x2, y2):\n",
        "\t\n",
        "\tdist = np.square(x1 - x2) + np.square(y1 - y2)\n",
        "\tdist = np.sqrt(dist)\n",
        "\n",
        "\treturn dist\n",
        "\n",
        "\n",
        "def k_means(points, means, clusters):\n",
        "\n",
        "\titerations = 10 # Assuming that after fixed iteration there is no significant\n",
        "  #change in mean point values\n",
        "\tm, n = points.shape\n",
        "\t\n",
        "\t# Classification of point to correspoding clusters\n",
        "\tindex = np.zeros(m)\n",
        "\n",
        "\t# Implementing k mean algorithm\n",
        "\twhile(iterations > 0):\n",
        "\n",
        "\t\tfor j in range(len(points)):\n",
        "\t\t\t\n",
        "\t\t# initialize minimum value to a large value\n",
        "\t\t\tminv = 1000\n",
        "\t\t\ttemp = None\n",
        "\t\t\t\n",
        "\t\t\tfor k in range(clusters):\n",
        "\t\t\t\t\n",
        "\t\t\t\tx1 = points[j, 0]\n",
        "\t\t\t\ty1 = points[j, 1]\n",
        "\t\t\t\tx2 = means[k, 0]\n",
        "\t\t\t\ty2 = means[k, 1]\n",
        "\t\t\t\t\n",
        "\t\t\t\tif(distance(x1, y1, x2, y2) < minv):\t\t\n",
        "\t\t\t\t\tminv = distance(x1, y1, x2, y2)\n",
        "\t\t\t\t\ttemp = k\n",
        "\t\t\t\t\tindex[j] = k\n",
        "\t\t\n",
        "\t\tfor k in range(clusters):\n",
        "\t\t\t\n",
        "\t\t\tsumx = 0\n",
        "\t\t\tsumy = 0\n",
        "\t\t\tcount = 0\n",
        "\t\t\t\n",
        "\t\t\tfor j in range(len(points)):\n",
        "\t\t\t\t\n",
        "\t\t\t\tif(index[j] == k):\n",
        "\t\t\t\t\tsumx += points[j, 0]\n",
        "\t\t\t\t\tsumy += points[j, 1]\n",
        "\t\t\t\t\tcount += 1\n",
        "\t\t\t\n",
        "\t\t\tif(count == 0):\n",
        "\t\t\t\tcount = 1\t\n",
        "\t\t\t\n",
        "\t\t\tmeans[k, 0] = float(sumx / count)\n",
        "\t\t\tmeans[k, 1] = float(sumy / count)\t\n",
        "\t\t\t\n",
        "\t\titerations -= 1\n",
        "\treturn means, index\n",
        "\n",
        "\n",
        "def compress_image(means, index, img):\n",
        "\n",
        "\t# assigning each pixel to its corresponding centroid to get clustered image.\n",
        "\tcentroid = np.array(means)\n",
        "\trecovered = centroid[index.astype(int), :]\n",
        "\t\n",
        "\t# Reshaping image to original 3-d shape\n",
        "\trecovered = np.reshape(recovered, (img.shape[0], img.shape[1],\n",
        "\t\t\t\t\t\t\t\t\t\t\t\t\timg.shape[2]))\n",
        "\n",
        "\t# plotting the compressed image.\n",
        "\tplt.imshow(recovered)\n",
        "\tplt.show()\n",
        "\n",
        "\t# saving the compressed image.\n",
        "\t#misc.imsave('compressed_' + str(clusters) +\n",
        "\t\t\t\t\t#\t'_colors.png', recovered)\n",
        "\n",
        "\n",
        "# Driver Code\n",
        "if __name__ == '__main__':\n",
        "\n",
        "\timg = read_image()\n",
        "\n",
        "\tclusters = 2\n",
        "\t\n",
        "\tpoints, means = initialize_means(img, clusters)\n",
        "\tmeans, index = k_means(points, means, clusters)\n",
        "\tcompress_image(means, index, img)\n",
        "# compressed image output"
      ]
    }
  ]
}